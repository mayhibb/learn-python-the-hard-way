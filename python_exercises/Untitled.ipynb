{
 "cells": [
  {
   "cell_type": "code",
   "execution_count": null,
   "metadata": {},
   "outputs": [
    {
     "name": "stdout",
     "output_type": "stream",
     "text": [
      "\n",
      "-------\n",
      "一个愤怒丑陋的哥顿人，堵在了仓库的门口，拿起武器向你猛击。\n"
     ]
    }
   ],
   "source": [
    "from sys import exit\n",
    "from random import randint\n",
    "\n",
    "class Game(object):\n",
    "    \n",
    "    def __init__(self, start):    # __init__初始化函数,self约定俗成，对象的名称\n",
    "\n",
    "        self.quips = [\"you died. You kinda suck at this.\",   \n",
    "             \"Nice job, you died... jackass.\", \n",
    "             \"Such a luser.\", \n",
    "             \"I have a small puppy that's better at this.\"]\n",
    "        self.start = start\n",
    "    \n",
    "    def play(self):\n",
    "        next = self.start\n",
    "        \n",
    "        while True:\n",
    "            print(\"\\n-------\")\n",
    "            room = getattr(self,next)  # getattr 返回一个对象属性值，这里是next。\n",
    "            next = room()\n",
    "    \n",
    "    def death(self):\n",
    "        print (self.quips[randint(0, len(self.quips)-1)])\n",
    "        exit(1)\n",
    "    \n",
    "    def central_corridor(self): # 中心走廊   \n",
    "        print(\"一个愤怒丑陋的哥顿人，堵在了仓库的门口，拿起武器向你猛击。\")\n",
    "    \n",
    "        action = input(\"> \")\n",
    "    \n",
    "        if action == \"shoot!\":   #  还击\n",
    "            print(\"你被打死了\")\n",
    "            return 'death'  # 返回‘死亡’\n",
    "    \n",
    "        elif action == \"dodge!\":  # 躲闪\n",
    "            print(\"你没躲开\")\n",
    "            return 'death'# 返回‘死亡’\n",
    "        \n",
    "    \n",
    "        elif action == \"tell a joke\":  # 说个笑话\n",
    "            print(\"被你笑死了\")\n",
    "            return 'laser_weapon_armory'  # 返回 ‘镭射武器库’\n",
    "    \n",
    "        else:\n",
    "            print(\"DOES NOT COMPUTE!\") \n",
    "            return 'central_corridor' # 不能运行，返回‘中心走廊’\n",
    "\n",
    "    def laser_weapon_armory(self):  # 镭射武器库\n",
    "        print(\"到了武器库\")\n",
    "        code = \"%d\" %(randint(1,9))\n",
    "        guess = input(\"[keypad]> \")\n",
    "        guesses = 0\n",
    "        \n",
    "    \n",
    "        while guess != code and guesses < 10:\n",
    "            print(\"BZZZZEDDD!\")\n",
    "            guesses += 1\n",
    "            guess = input(\"[keypad]> \")\n",
    "\n",
    "        if guess == code:\n",
    "            print(\"密码确认\")\n",
    "            return 'the_bridge' # 返回连接器\n",
    "\n",
    "        else:\n",
    "            print(\"锁住了\")\n",
    "            return 'death'\n",
    "    \n",
    "    \n",
    "    def the_bridge(self):  #  连接器  部分\n",
    "        print(\"怎么处理炸弹呢？\")\n",
    "        action = input(\"> \")\n",
    "    \n",
    "        if action == \"throw the bomb\":\n",
    "            print(\"炸死了\")\n",
    "            return 'death'\n",
    "    \n",
    "        elif action == 'slowly place the bomb':\n",
    "            print(\"方下之后，你逃进了分离舱\")\n",
    "            return 'escape_pod'  # 返回 逃生舱 分离舱\n",
    "    \n",
    "        else:\n",
    "            print(\"DOES NOT COMPUTE!\")\n",
    "            return \"the_bridge\"\n",
    "\n",
    "    def escape_pod(self):\n",
    "\n",
    "        print(\"现在你在分离舱里\")\n",
    "        good_pod = randint(1,5)\n",
    "        guess = input(\"[pod #]> \")\n",
    "    \n",
    "        if int(guess) != good_pod:\n",
    "            print(\"这个不能用\")\n",
    "            return 'death'\n",
    "\n",
    "        else:\n",
    "            print(\"You jump into pod %s and hit the eject button.\" %guess)\n",
    "            print( \"逃脱成功。\")\n",
    "            exit(0)\n",
    "\n",
    "\n",
    "a_game = Game(\"central_corridor\")\n",
    "a_game.play()"
   ]
  },
  {
   "cell_type": "code",
   "execution_count": 1,
   "metadata": {},
   "outputs": [
    {
     "name": "stdout",
     "output_type": "stream",
     "text": [
      "False\n"
     ]
    }
   ],
   "source": [
    "a = \"I am a student\"\n",
    "b = \"I am a student\"\n",
    "print(a is b)"
   ]
  },
  {
   "cell_type": "code",
   "execution_count": 2,
   "metadata": {},
   "outputs": [
    {
     "name": "stdout",
     "output_type": "stream",
     "text": [
      "True\n"
     ]
    }
   ],
   "source": [
    "a = 1\n",
    "b = 1\n",
    "print(a is b)"
   ]
  },
  {
   "cell_type": "code",
   "execution_count": null,
   "metadata": {},
   "outputs": [],
   "source": []
  }
 ],
 "metadata": {
  "kernelspec": {
   "display_name": "Python 3",
   "language": "python",
   "name": "python3"
  },
  "language_info": {
   "codemirror_mode": {
    "name": "ipython",
    "version": 3
   },
   "file_extension": ".py",
   "mimetype": "text/x-python",
   "name": "python",
   "nbconvert_exporter": "python",
   "pygments_lexer": "ipython3",
   "version": "3.6.5"
  }
 },
 "nbformat": 4,
 "nbformat_minor": 2
}
