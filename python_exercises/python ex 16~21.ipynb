{
 "cells": [
  {
   "cell_type": "code",
   "execution_count": 1,
   "metadata": {},
   "outputs": [
    {
     "ename": "ValueError",
     "evalue": "too many values to unpack (expected 2)",
     "output_type": "error",
     "traceback": [
      "\u001b[1;31m---------------------------------------------------------------------------\u001b[0m",
      "\u001b[1;31mValueError\u001b[0m                                Traceback (most recent call last)",
      "\u001b[1;32m<ipython-input-1-ac87f810e464>\u001b[0m in \u001b[0;36m<module>\u001b[1;34m()\u001b[0m\n\u001b[0;32m      1\u001b[0m \u001b[1;32mfrom\u001b[0m \u001b[0msys\u001b[0m \u001b[1;32mimport\u001b[0m \u001b[0margv\u001b[0m\u001b[1;33m\u001b[0m\u001b[0m\n\u001b[0;32m      2\u001b[0m \u001b[1;33m\u001b[0m\u001b[0m\n\u001b[1;32m----> 3\u001b[1;33m \u001b[0mscript\u001b[0m\u001b[1;33m,\u001b[0m \u001b[0mfilename\u001b[0m \u001b[1;33m=\u001b[0m \u001b[0margv\u001b[0m\u001b[1;33m\u001b[0m\u001b[0m\n\u001b[0m\u001b[0;32m      4\u001b[0m \u001b[1;33m\u001b[0m\u001b[0m\n\u001b[0;32m      5\u001b[0m \u001b[0mprint\u001b[0m\u001b[1;33m(\u001b[0m\u001b[1;34m\"We,re going to erase %r.\"\u001b[0m \u001b[1;33m%\u001b[0m\u001b[0mfilename\u001b[0m\u001b[1;33m)\u001b[0m\u001b[1;33m\u001b[0m\u001b[0m\n",
      "\u001b[1;31mValueError\u001b[0m: too many values to unpack (expected 2)"
     ]
    }
   ],
   "source": [
    "from sys import argv\n",
    "\n",
    "script, filename = argv\n",
    "\n",
    "print(\"We're going to erase %r.\" %filename)         # 我们要执行一个删除文件的操作\n",
    "\n",
    "print(\"If you don't want that, hit CTRL-C (^C).\")    # 如果你不想要这么做，就敲击Ctrl—C，（ 这一步到目前为止都没有成功过，）\n",
    "\n",
    "print(\"If you do want that, hit RETURN.\")             # 如果你想执行，就敲击回车\n",
    "\n",
    "input(\"?\")      # 输入\n",
    "\n",
    "print(\"Opening the file...\")\n",
    "target = open(filename, 'w')\n",
    "\n",
    "print(\"Truncating the file.Goodbye!\")\n",
    "target.truncate()\n",
    "\n",
    "print(\"Now I'm going to ask you for three lines.\")\n",
    "\n",
    "line1 = input(\"line 1: \")\n",
    "line2 = input(\"line 2: \")\n",
    "line3 = input(\"line 3: \")\n",
    "\n",
    "print(\"I'm going to write these to the file.\")\n",
    "\n",
    "target.write(line1)\n",
    "target.write(\"\\n\")\n",
    "target.write(line2)\n",
    "target.write(\"\\n\")\n",
    "target.write(line3)\n",
    "target.write(\"\\n\")\n",
    "\n",
    "print(\"And finally, we close it.\")\n",
    "target.close()"
   ]
  },
  {
   "cell_type": "code",
   "execution_count": 1,
   "metadata": {},
   "outputs": [
    {
     "name": "stdout",
     "output_type": "stream",
     "text": [
      "Copying from -f to C:\\Users\\獠牙漫画\\AppData\\Roaming\\jupyter\\runtime\\kernel-7b2e0f0f-7cf4-4b79-a4f0-7b37761b6440.json\n"
     ]
    },
    {
     "ename": "FileNotFoundError",
     "evalue": "[Errno 2] No such file or directory: '-f'",
     "output_type": "error",
     "traceback": [
      "\u001b[1;31m---------------------------------------------------------------------------\u001b[0m",
      "\u001b[1;31mFileNotFoundError\u001b[0m                         Traceback (most recent call last)",
      "\u001b[1;32m<ipython-input-1-a75520d87678>\u001b[0m in \u001b[0;36m<module>\u001b[1;34m()\u001b[0m\n\u001b[0;32m      7\u001b[0m \u001b[1;33m\u001b[0m\u001b[0m\n\u001b[0;32m      8\u001b[0m \u001b[1;31m# we could do these two on one line too, how?  我们也可以把两行代码写成同一行。\u001b[0m\u001b[1;33m\u001b[0m\u001b[1;33m\u001b[0m\u001b[0m\n\u001b[1;32m----> 9\u001b[1;33m \u001b[0mputin\u001b[0m \u001b[1;33m=\u001b[0m \u001b[0mopen\u001b[0m\u001b[1;33m(\u001b[0m\u001b[0mfrom_file\u001b[0m\u001b[1;33m)\u001b[0m\u001b[1;31m# 一开始在这里用了input没运行出错了。\u001b[0m\u001b[1;33m\u001b[0m\u001b[0m\n\u001b[0m\u001b[0;32m     10\u001b[0m \u001b[1;33m\u001b[0m\u001b[0m\n\u001b[0;32m     11\u001b[0m \u001b[0mindata\u001b[0m \u001b[1;33m=\u001b[0m \u001b[0mputin\u001b[0m\u001b[1;33m.\u001b[0m\u001b[0mread\u001b[0m\u001b[1;33m(\u001b[0m\u001b[1;33m)\u001b[0m\u001b[1;31m# 所以这个被定义的字符改成了putin就好用了。\u001b[0m\u001b[1;33m\u001b[0m\u001b[0m\n",
      "\u001b[1;31mFileNotFoundError\u001b[0m: [Errno 2] No such file or directory: '-f'"
     ]
    }
   ],
   "source": [
    "from sys import argv\n",
    "from os.path import exists  # 这两句话是在干什么？\n",
    "\n",
    "script, from_file, to_file = argv # 定义了变量参数\n",
    "\n",
    "print(\"Copying from %s to %s\" %(from_file, to_file))\n",
    "\n",
    "# we could do these two on one line too, how?  我们也可以把两行代码写成同一行。\n",
    "putin = open(from_file)# 一开始在这里用了input没运行出错了。\n",
    "\n",
    "indata = putin.read()# 所以这个被定义的字符改成了putin就好用了。\n",
    "\n",
    "print(\"The input file %d bytes long\" % len(indata))\n",
    "\n",
    "print(\"Does the output file exist? %r\" % exists(to_file))\n",
    "\n",
    "print(\"Ready, hit RETURN to continue, CTRL-C to abort.\")# 这个Ctrl-c依旧是个问题，不能运行。\n",
    "input()\n",
    "output = open(to_file, 'w')  # 这个W到底是干什么的？\n",
    "    \n",
    "output.write(indata)#这两个output，大概是先打开然后写入。\n",
    "\n",
    "print(\"Alright, all done.\")\n",
    "\n",
    "output.close()\n",
    "putin.close()# 这两个是把文件关闭"
   ]
  },
  {
   "cell_type": "code",
   "execution_count": 3,
   "metadata": {},
   "outputs": [
    {
     "name": "stdout",
     "output_type": "stream",
     "text": [
      "arg1: 'Zed', arg2: 'Shaw'\n",
      "arg1: 'Zed', arg2: 'Shaw'\n",
      "arg1: 'First!'\n",
      "I got noting.\n"
     ]
    }
   ],
   "source": [
    "# 第18章，似乎好像要开始讲函数了。argv这个参数变量要退休了\n",
    "\n",
    "def print_two(*args):# 定义一个函数print_two，这个函数的名字可以随便取。为什么要用这么长一串。。。\n",
    "    arg1, arg2 = args\n",
    "    print(\"arg1: %r, arg2: %r\" %(arg1, arg2))\n",
    "\n",
    "# 他尽然告诉我*args这个东西是没有意义的。\n",
    "\n",
    "def print_two_again(arg1, arg2):\n",
    "    print(\"arg1: %r, arg2: %r\" %(arg1, arg2))\n",
    "\n",
    "# 下面这个只有一个参数\n",
    "\n",
    "def print_one(arg1):\n",
    "    print(\"arg1: %r\" %arg1)\n",
    "    \n",
    "    \n",
    "# 接下去这个没有提供参数\n",
    "def print_none():\n",
    "    print(\"I got noting.\")\n",
    "    \n",
    "    \n",
    "\n",
    "    \n",
    "print_two(\"Zed\",\"Shaw\")\n",
    "print_two_again(\"Zed\",\"Shaw\")\n",
    "print_one(\"First!\")\n",
    "print_none()"
   ]
  },
  {
   "cell_type": "code",
   "execution_count": 11,
   "metadata": {},
   "outputs": [
    {
     "name": "stdout",
     "output_type": "stream",
     "text": [
      "We can just give the function numbers directly: \n",
      "You have 20 cheese!\n",
      "You have 30 boxes of crackers!\n",
      "Man that's enough for a party!\n",
      "Get a blanket. \n",
      "\n",
      "OR, we can use variables from our script:\n",
      "You have 10 cheese!\n",
      "You have 50 boxes of crackers!\n",
      "Man that's enough for a party!\n",
      "Get a blanket. \n",
      "\n",
      "We can even do math inside too:\n",
      "You have 30 cheese!\n",
      "You have 11 boxes of crackers!\n",
      "Man that's enough for a party!\n",
      "Get a blanket. \n",
      "\n",
      "And we can combine the two, variables and math:\n",
      "You have 110 cheese!\n",
      "You have 1050 boxes of crackers!\n",
      "Man that's enough for a party!\n",
      "Get a blanket. \n",
      "\n"
     ]
    }
   ],
   "source": [
    "def cheese_and_crackers(cheese_count, boxes_of_crackers):  # 定义一个函数叫做“奶酪和薄饼”\n",
    "    print(\"You have %d cheese!\" % cheese_count)# 打印：\n",
    "    print(\"You have %d boxes of crackers!\" % boxes_of_crackers)  # 这段代码，出现了两个地方的单词拼写错了。。。。\n",
    "    print(\"Man that's enough for a party!\")\n",
    "    print(\"Get a blanket. \\n\")\n",
    "    \n",
    "    \n",
    "print(\"We can just give the function numbers directly: \")\n",
    "cheese_and_crackers(20, 30)  # 直接赋值\n",
    "\n",
    "print(\"OR, we can use variables from our script:\")\n",
    "amount_of_cheese = 10\n",
    "amount_of_crackers = 50\n",
    "cheese_and_crackers(amount_of_cheese, amount_of_crackers) # 添加变量\n",
    "\n",
    "\n",
    "print(\"We can even do math inside too:\")\n",
    "cheese_and_crackers(10+20, 5+6)  # 赋值的过程中添加计算\n",
    "\n",
    "\n",
    "\n",
    "print(\"And we can combine the two, variables and math:\")\n",
    "cheese_and_crackers(amount_of_cheese + 100, \n",
    "                   amount_of_crackers + 1000)  # 这是使用了赋值加运算"
   ]
  },
  {
   "cell_type": "code",
   "execution_count": 8,
   "metadata": {},
   "outputs": [
    {
     "name": "stdout",
     "output_type": "stream",
     "text": [
      "We can just give the function numbers directly:\n",
      "You have 20 cheeses!\n",
      "You have 30 boxes of crackers!\n",
      "Man that's enough for a party!\n",
      "Get a blanket.\n",
      "\n",
      "OR, we can use variables from our script:\n",
      "You have 10 cheeses!\n",
      "You have 50 boxes of crackers!\n",
      "Man that's enough for a party!\n",
      "Get a blanket.\n",
      "\n",
      "We can even do math inside too:\n",
      "You have 30 cheeses!\n",
      "You have 11 boxes of crackers!\n",
      "Man that's enough for a party!\n",
      "Get a blanket.\n",
      "\n",
      "And we can combine the two, variables and math:\n",
      "You have 110 cheeses!\n",
      "You have 1050 boxes of crackers!\n",
      "Man that's enough for a party!\n",
      "Get a blanket.\n",
      "\n"
     ]
    }
   ],
   "source": [
    "def cheese_and_crackers(cheese_count, boxes_of_crackers):\n",
    "    print (\"You have %d cheeses!\" % cheese_count)\n",
    "    print (\"You have %d boxes of crackers!\" % boxes_of_crackers)\n",
    "    print (\"Man that's enough for a party!\")\n",
    "    print (\"Get a blanket.\\n\")\n",
    "\n",
    "    \n",
    "print (\"We can just give the function numbers directly:\")\n",
    "cheese_and_crackers(20, 30)\n",
    "\n",
    "print (\"OR, we can use variables from our script:\")\n",
    "amount_of_cheese = 10\n",
    "amount_of_crackers = 50\n",
    "cheese_and_crackers(amount_of_cheese, amount_of_crackers)\n",
    "\n",
    "print (\"We can even do math inside too:\")\n",
    "cheese_and_crackers(10 + 20, 5 + 6)\n",
    "\n",
    "print (\"And we can combine the two, variables and math:\")\n",
    "cheese_and_crackers(amount_of_cheese + 100,\n",
    "amount_of_crackers + 1000)"
   ]
  },
  {
   "cell_type": "code",
   "execution_count": 12,
   "metadata": {},
   "outputs": [
    {
     "ename": "ValueError",
     "evalue": "too many values to unpack (expected 2)",
     "output_type": "error",
     "traceback": [
      "\u001b[1;31m---------------------------------------------------------------------------\u001b[0m",
      "\u001b[1;31mValueError\u001b[0m                                Traceback (most recent call last)",
      "\u001b[1;32m<ipython-input-12-16c889a52370>\u001b[0m in \u001b[0;36m<module>\u001b[1;34m()\u001b[0m\n\u001b[0;32m      1\u001b[0m \u001b[1;32mfrom\u001b[0m \u001b[0msys\u001b[0m \u001b[1;32mimport\u001b[0m \u001b[0margv\u001b[0m\u001b[1;33m\u001b[0m\u001b[0m\n\u001b[0;32m      2\u001b[0m \u001b[1;33m\u001b[0m\u001b[0m\n\u001b[1;32m----> 3\u001b[1;33m \u001b[0mscript\u001b[0m\u001b[1;33m,\u001b[0m \u001b[0minput_file\u001b[0m \u001b[1;33m=\u001b[0m \u001b[0margv\u001b[0m\u001b[1;33m\u001b[0m\u001b[0m\n\u001b[0m\u001b[0;32m      4\u001b[0m \u001b[1;33m\u001b[0m\u001b[0m\n\u001b[0;32m      5\u001b[0m \u001b[1;32mdef\u001b[0m \u001b[0mprint_all\u001b[0m\u001b[1;33m(\u001b[0m\u001b[0mf\u001b[0m\u001b[1;33m)\u001b[0m\u001b[1;33m:\u001b[0m\u001b[1;33m\u001b[0m\u001b[0m\n",
      "\u001b[1;31mValueError\u001b[0m: too many values to unpack (expected 2)"
     ]
    }
   ],
   "source": [
    "from sys import argv\n",
    "\n",
    "script, input_file = argv  # 调用脚本和文本\n",
    "\n",
    "def print_all(f):\n",
    "    print(f.read())  # 定义一个函数 P1：执行读取\n",
    "    \n",
    "def rewind(f):# 定义一个函数 R \n",
    "    f.seek(0)  # 给offset参数一个定义，表示要从哪个位置开始偏移；\n",
    "    # 0代表从文件开头开始算起，\n",
    "    #1代表从当前位置开始算起，\n",
    "    #2代表从文件末尾算起。\n",
    "\n",
    "def print_a_line(line_count, f): # 定义第三个函数 P2：执行行的计数，f\n",
    "    print(line_count, f.readline())\n",
    "    \n",
    "current_file = open(input_file) # 现在的文本定义成打开已经存在的文本\n",
    "\n",
    " \n",
    "print(\"First let's print the whole file:\\n\")\n",
    "print_all(current_file) # 这里执行，打开整个文件\n",
    "\n",
    "\n",
    "print(\"New let's rewind, kind of like a tape.\")\n",
    "rewind(current_file)\n",
    "\n",
    "\n",
    "print(\"Let's print three lines: \")\n",
    "\n",
    "\n",
    "current_line = 1\n",
    "print_a_line(current_line, current_file)\n",
    "\n",
    "current_line = current_line + 1\n",
    "print_a_line(current_line, current_file)\n",
    "\n",
    "current_line = current_line + 1\n",
    "print_a_line(current_line,current_file) # 这个代码的作用就是加行，多输入几次，就多加几行"
   ]
  },
  {
   "cell_type": "code",
   "execution_count": null,
   "metadata": {},
   "outputs": [],
   "source": [
    "from sys import argv\n",
    "\n",
    "script, file = argv\n",
    "\n",
    "def A(f):\n",
    "    print(f.read()) \n",
    "    \n",
    "def B(f):\n",
    "    f.seek(0)\n",
    "    \n",
    "def C(n,f):\n",
    "    print(n,f.readline())\n",
    "\n",
    "D = open(file)\n",
    "\n",
    "\n",
    "print(\"打开文件：\\n\")\n",
    "A(D)\n",
    "\n",
    "print(\"现在我们回溯，就像磁带一样。\")\n",
    "B(D)\n",
    "\n",
    "print(\"我们打开三行：\")\n",
    "\n",
    "E = 1\n",
    "C(E, D)\n",
    "\n",
    "E = E + 1\n",
    "C(E, D)\n",
    "\n",
    "E = E + 1\n",
    "C(E, D)"
   ]
  },
  {
   "cell_type": "code",
   "execution_count": 23,
   "metadata": {},
   "outputs": [
    {
     "name": "stdout",
     "output_type": "stream",
     "text": [
      "Let's do some math with just functions!\n",
      "\n",
      "ADDING 30 + 5\n",
      "SUBTRACTING 78 - 4\n",
      "MULTIPLYING 90 * 2\n",
      "DIVIDING 100 / 2\n",
      "Age: 35, height: 74, weight: 180, IQ: 50 \n",
      "\n",
      "Here is a puzzle.\n",
      "DIVIDING 50 / 2\n",
      "MULTIPLYING 180 * 25\n",
      "SUBTRACTING 74 - 4500\n",
      "ADDING 35 + -4426\n",
      "That becomes:  -4391.0 Can you do it by hand?\n"
     ]
    }
   ],
   "source": [
    "# 练习题 21\n",
    "\n",
    "def add(a,b):\n",
    "    print(\"ADDING %d + %d\" %(a,b))\n",
    "    return(a+b)\n",
    "\n",
    "def subtract(a,b):\n",
    "    print(\"SUBTRACTING %d - %d\" %(a,b))\n",
    "    return( a - b )\n",
    "\n",
    "def multiply(a,b):\n",
    "    print(\"MULTIPLYING %d * %d\" %(a,b))\n",
    "    return(a * b)\n",
    "\n",
    "def divide(a,b):\n",
    "    print(\"DIVIDING %d / %d\" %(a,b))\n",
    "    return(a / b)\n",
    "\n",
    "print(\"Let's do some math with just functions!\\n\")\n",
    "\n",
    "age = add(30,5)\n",
    "height = subtract(78,4)\n",
    "weight = multiply(90,2)\n",
    "iq = divide(100,2)\n",
    "\n",
    "print(\"Age: %d, height: %d, weight: %d, IQ: %d \\n\" %(age, height, weight, iq))\n",
    "\n",
    "\n",
    "# A puzzle for the extra credit, type it in anyway.\n",
    "\n",
    "print(\"Here is a puzzle.\")\n",
    "\n",
    "what = add(age, subtract(height, multiply(weight, divide(iq,2))))\n",
    "\n",
    "print(\"That becomes: \", what, \"Can you do it by hand?\")"
   ]
  },
  {
   "cell_type": "code",
   "execution_count": 29,
   "metadata": {},
   "outputs": [
    {
     "name": "stdout",
     "output_type": "stream",
     "text": [
      "30 + 10\n",
      "30 - 10\n",
      "a:40, b:20\n"
     ]
    }
   ],
   "source": [
    "def add(a,b):\n",
    "    print(\"%d + %d\" %(a,b))\n",
    "    return(a+b)\n",
    "    \n",
    "def A(a,b):\n",
    "    print(\"%d - %d\" %(a,b))\n",
    "    return(a-b)\n",
    "\n",
    "q = add(30,10)\n",
    "w = A(30,10)\n",
    "\n",
    "print(\"a:%d, b:%d\"%(q,w))"
   ]
  },
  {
   "cell_type": "code",
   "execution_count": 30,
   "metadata": {},
   "outputs": [
    {
     "name": "stdout",
     "output_type": "stream",
     "text": [
      "30 + 10\n",
      "30 - 10\n"
     ]
    }
   ],
   "source": [
    "def add(a,b):\n",
    "    print(\"%d + %d\" %(a,b))\n",
    "    return(a+b)\n",
    "    \n",
    "def A(a,b):\n",
    "    print(\"%d - %d\" %(a,b))\n",
    "    return(a-b)\n",
    "\n",
    "q = add(30,10)\n",
    "w = A(30,10)"
   ]
  },
  {
   "cell_type": "code",
   "execution_count": 32,
   "metadata": {},
   "outputs": [
    {
     "name": "stdout",
     "output_type": "stream",
     "text": [
      "30 + 10\n",
      "30 - 10\n",
      "40\n",
      "20\n"
     ]
    }
   ],
   "source": [
    "def add(a,b):\n",
    "    print(\"%d + %d\" %(a,b))\n",
    "    return(a+b)\n",
    "    \n",
    "def A(a,b):\n",
    "    print(\"%d - %d\" %(a,b))\n",
    "    return(a-b)\n",
    "\n",
    "q = add(30,10)\n",
    "w = A(30,10)\n",
    "\n",
    "print(q)\n",
    "print(w)"
   ]
  },
  {
   "cell_type": "code",
   "execution_count": 43,
   "metadata": {},
   "outputs": [
    {
     "name": "stdout",
     "output_type": "stream",
     "text": [
      "30 + 10\n",
      "= 40 \n",
      "\n",
      "30 - 10\n",
      "= 20\n"
     ]
    }
   ],
   "source": [
    "def add(a,b):\n",
    "    print(\"%d + %d\" %(a,b))\n",
    "    return(a+b)\n",
    "q = add(30,10) \n",
    "print(\"=\",q,\"\\n\")\n",
    "\n",
    "def A(a,b):\n",
    "    print(\"%d - %d\" %(a,b))\n",
    "    return(a-b)\n",
    "w = A(30,10) \n",
    "print(\"=\",w)"
   ]
  },
  {
   "cell_type": "code",
   "execution_count": 2,
   "metadata": {},
   "outputs": [
    {
     "name": "stdout",
     "output_type": "stream",
     "text": [
      "-7800.0\n"
     ]
    }
   ],
   "source": [
    "def add(a,b):\n",
    "    return(a+b)\n",
    "\n",
    "def subtract(a,b):\n",
    "    return(a-b)\n",
    "\n",
    "def multiply(a,b):\n",
    "    return(a*b)\n",
    "\n",
    "def divide(a,b):\n",
    "    return(a/b)\n",
    "\n",
    "age = 20\n",
    "height = 180\n",
    "weight = 80\n",
    "iq = 200\n",
    "\n",
    "A = add(age, subtract(height, multiply(weight, divide(iq,2))))\n",
    "print(A)"
   ]
  },
  {
   "cell_type": "code",
   "execution_count": 10,
   "metadata": {},
   "outputs": [
    {
     "name": "stdout",
     "output_type": "stream",
     "text": [
      "20 + 180 - 80 * 200 / 2 =\n",
      "-7800.0\n",
      "-7800.0\n"
     ]
    }
   ],
   "source": [
    "def add(a,b):\n",
    "    return(a+b)\n",
    "\n",
    "def subtract(a,b):\n",
    "    return(a-b)\n",
    "\n",
    "def multiply(a,b):\n",
    "    return(a*b)\n",
    "\n",
    "def divide(a,b):\n",
    "    return(a/b)\n",
    "\n",
    "age = 20\n",
    "height = 180\n",
    "weight = 80\n",
    "iq = 200\n",
    "\n",
    "A = add(age, subtract(height, multiply(weight, divide(iq,2))))\n",
    "print('%d'%age, '+', '%d'%height, '-', '%d'%weight, '*', '%d'%iq, '/', '%d'%2,'=' );  print(A)\n",
    "                                                                            \n",
    "print(A)"
   ]
  },
  {
   "cell_type": "code",
   "execution_count": null,
   "metadata": {},
   "outputs": [],
   "source": []
  }
 ],
 "metadata": {
  "kernelspec": {
   "display_name": "Python 3",
   "language": "python",
   "name": "python3"
  },
  "language_info": {
   "codemirror_mode": {
    "name": "ipython",
    "version": 3
   },
   "file_extension": ".py",
   "mimetype": "text/x-python",
   "name": "python",
   "nbconvert_exporter": "python",
   "pygments_lexer": "ipython3",
   "version": "3.6.5"
  }
 },
 "nbformat": 4,
 "nbformat_minor": 2
}
