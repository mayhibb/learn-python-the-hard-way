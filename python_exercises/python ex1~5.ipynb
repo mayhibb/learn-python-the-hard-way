{
 "cells": [
  {
   "cell_type": "code",
   "execution_count": 2,
   "metadata": {},
   "outputs": [
    {
     "name": "stdout",
     "output_type": "stream",
     "text": [
      "Hello world!\n",
      "Hello again.\n",
      "I like typing this.\n",
      "This is fun.\n",
      "Yay!printing.\n",
      "I'd much rather you 'not'.\n",
      "I \"said\" do not touch this.\n"
     ]
    }
   ],
   "source": [
    "print(\"Hello world!\")\n",
    "\n",
    "print(\"Hello again.\")\n",
    "\n",
    "print(\"I like typing this.\")\n",
    "\n",
    "print(\"This is fun.\")\n",
    "\n",
    "print('Yay!printing.')\n",
    "\n",
    "print(\"I'd much rather you 'not'.\")\n",
    "\n",
    "print('I \"said\" do not touch this.')"
   ]
  },
  {
   "cell_type": "code",
   "execution_count": 3,
   "metadata": {},
   "outputs": [
    {
     "name": "stdout",
     "output_type": "stream",
     "text": [
      "I could have code like this.\n",
      "This will run.\n"
     ]
    }
   ],
   "source": [
    "# A comment, this is so you can read your program later.\n",
    "# Anythinf after the # is ignored ny python.\n",
    "\n",
    "\n",
    "print(\"I could have code like this.\") # and the comment after is ignored.\n",
    "\n",
    "# You can also use a comment to \"disable\" or comment out a piece of code:\n",
    "\n",
    "#print(\"This won't run.\") \n",
    "\n",
    "print(\"This will run.\")"
   ]
  },
  {
   "cell_type": "code",
   "execution_count": 1,
   "metadata": {},
   "outputs": [
    {
     "name": "stdout",
     "output_type": "stream",
     "text": [
      "I will count my chickens:\n",
      "hens 30.0\n",
      "roosters 97\n",
      "Now I will count the eggs:\n",
      "6.75\n",
      "Is it ture that 3 + 2 < 5 - 7 ?\n",
      "False\n",
      "What is 3 + 2 ? 5\n",
      "What is 5 - 7 ? -2\n",
      "Oh,that't why it's false.\n",
      "How about some more.\n",
      "Is it greater? True\n",
      "Is it greater or equal? True\n",
      "Is it less or equal? False\n"
     ]
    }
   ],
   "source": [
    "print(\"I will count my chickens:\")\n",
    "\n",
    "print(\"hens\",25+30/6)\n",
    "print(\"roosters\",100-25*3%4)\n",
    "\n",
    "print(\"Now I will count the eggs:\")\n",
    "\n",
    "print( 3 + 2 + 1 - 5 + 4 % 2 - 1 / 4 + 6 )\n",
    "\n",
    "print(\"Is it ture that 3 + 2 < 5 - 7 ?\")\n",
    "\n",
    "print(3 + 2 < 5 - 7)\n",
    "\n",
    "print(\"What is 3 + 2 ?\",3 + 2)\n",
    "print(\"What is 5 - 7 ?\",5-7)\n",
    "\n",
    "print(\"Oh,that't why it's false.\")\n",
    "\n",
    "print(\"How about some more.\")\n",
    "\n",
    "print(\"Is it greater?\",5>= -2)\n",
    "print(\"Is it greater or equal?\",5>= -2)\n",
    "print(\"Is it less or equal?\",5<= -2)"
   ]
  },
  {
   "cell_type": "code",
   "execution_count": 2,
   "metadata": {},
   "outputs": [
    {
     "name": "stdout",
     "output_type": "stream",
     "text": [
      "There are 100 cars available.\n",
      "There are only 30 drivers available.\n",
      "There will be 70 empty cars today.\n",
      "We can transport 120.0 people today.\n",
      "We have 90 to carpool today.\n",
      "We need to put about 3.0 in each car.\n"
     ]
    }
   ],
   "source": [
    "cars = 100\n",
    "space_in_a_car = 4.0\n",
    "drivers = 30\n",
    "passengers = 90\n",
    "cars_not_driven = cars - drivers\n",
    "cars_driven = drivers\n",
    "carpool_capacity = cars_driven * space_in_a_car\n",
    "average_passengers_per_car = passengers / cars_driven\n",
    "\n",
    "\n",
    "print(\"There are\", cars, \"cars available.\")\n",
    "print(\"There are only\", drivers, \"drivers available.\")\n",
    "print(\"There will be\", cars_not_driven, \"empty cars today.\")\n",
    "print(\"We can transport\", carpool_capacity, \"people today.\")\n",
    "print(\"We have\", passengers, \"to carpool today.\")\n",
    "print(\"We need to put about\", average_passengers_per_car, \"in each car.\")\n"
   ]
  },
  {
   "cell_type": "code",
   "execution_count": 3,
   "metadata": {},
   "outputs": [
    {
     "ename": "SyntaxError",
     "evalue": "invalid syntax (<ipython-input-3-8662ebc7702a>, line 2)",
     "output_type": "error",
     "traceback": [
      "\u001b[1;36m  File \u001b[1;32m\"<ipython-input-3-8662ebc7702a>\"\u001b[1;36m, line \u001b[1;32m2\u001b[0m\n\u001b[1;33m    space in a car = 4.0\u001b[0m\n\u001b[1;37m                 ^\u001b[0m\n\u001b[1;31mSyntaxError\u001b[0m\u001b[1;31m:\u001b[0m invalid syntax\n"
     ]
    }
   ],
   "source": [
    "cars = 100\n",
    "space in a car = 4.0\n",
    "drivers = 30\n",
    "passengers = 90\n",
    "cars not driven = cars - drivers\n",
    "cars driven = drivers\n",
    "carpool capacity = cars driven * space in a car\n",
    "average passengers per car = passengers / cars driven\n",
    "\n",
    "\n",
    "print(\"There are\", cars, \"cars available.\")\n",
    "print(\"There are only\", drivers, \"drivers available.\")\n",
    "print(\"There will be\", cars not driven, \"empty cars today.\")\n",
    "print(\"We can transport\", carpool capacity, \"people today.\")\n",
    "print(\"We have\", passengers, \"to carpool today.\")\n",
    "print(\"We need to put about\", average passengers per car, \"in each car.\")"
   ]
  },
  {
   "cell_type": "code",
   "execution_count": 5,
   "metadata": {},
   "outputs": [
    {
     "name": "stdout",
     "output_type": "stream",
     "text": [
      "这里有 100 辆车可以用。\n",
      "但是只有 30 个司机有空。\n",
      "所以，今天会有 70 辆车空着。\n",
      "今天，我们能搭载 120.0 个乘客。\n",
      "今天，有 90 个乘客需要搭载。\n",
      "我们需要每辆车安排 3.0 个乘客。\n"
     ]
    }
   ],
   "source": [
    "cars = 100\n",
    "space_in_a_car = 4.0\n",
    "drivers = 30\n",
    "passengers = 90\n",
    "cars_not_driven = cars - drivers\n",
    "cars_driven = drivers\n",
    "carpool_capacity = cars_driven * space_in_a_car\n",
    "average_passengers_per_car = passengers / cars_driven\n",
    "\n",
    "\n",
    "print(\"这里有\", cars, \"辆车可以用。\")\n",
    "print(\"但是只有\", drivers, \"个司机有空。\")\n",
    "print(\"所以，今天会有\", cars_not_driven, \"辆车空着。\")\n",
    "print(\"今天，我们能搭载\", carpool_capacity, \"个乘客。\")\n",
    "print(\"今天，有\", passengers, \"个乘客需要搭载。\")\n",
    "print(\"我们需要每辆车安排\", average_passengers_per_car, \"个乘客。\")"
   ]
  },
  {
   "cell_type": "code",
   "execution_count": 8,
   "metadata": {},
   "outputs": [
    {
     "name": "stdout",
     "output_type": "stream",
     "text": [
      "这里有 100 辆车可以用。\n",
      "但是只有 30 个司机有空。\n",
      "所以，今天会有 70 辆车空着。\n",
      "今天，我们能搭载 120 个乘客。\n",
      "今天，有 90 个乘客需要搭载。\n",
      "我们需要每辆车安排 3.0 个乘客。\n"
     ]
    }
   ],
   "source": [
    "# n 表示车辆数\n",
    "n = 100  \n",
    "\n",
    "# m 表示司机数\n",
    "m = 30\n",
    "\n",
    "# 每辆车可以坐 i 个人\n",
    "i = 4\n",
    "\n",
    "# 今天有 j 个乘客\n",
    "j = 90\n",
    "\n",
    "print(\"这里有\",n, \"辆车可以用。\")\n",
    "print(\"但是只有\", m, \"个司机有空。\")\n",
    "print(\"所以，今天会有\", n-m, \"辆车空着。\")\n",
    "print(\"今天，我们能搭载\", m*i, \"个乘客。\")\n",
    "print(\"今天，有\", j, \"个乘客需要搭载。\")\n",
    "print(\"我们需要每辆车安排\", j/m, \"个乘客。\")"
   ]
  },
  {
   "cell_type": "code",
   "execution_count": 11,
   "metadata": {},
   "outputs": [
    {
     "name": "stdout",
     "output_type": "stream",
     "text": [
      "Let's talk about Zed A. shaw.\n",
      "He's 74 inches tall.\n",
      "He's 180 pounds heavy.\n",
      "Actually that's not too heavy.\n",
      "He' get Blue eyes and Brown hair.\n",
      "His teeth are usually White depending on the coffee.\n",
      "If I add 35, 74, and 180 I get 289.\n"
     ]
    }
   ],
   "source": [
    "my_name ='Zed A. shaw'\n",
    "my_age = 35 # not a lie\n",
    "my_height = 74 # inches\n",
    "my_weight = 180 # lbs\n",
    "my_eyes = 'Blue'\n",
    "my_teeth = \"White\"\n",
    "my_hair = \"Brown\"\n",
    "\n",
    "\n",
    "print(\"Let's talk about %s.\" % my_name)\n",
    "print(\"He's %d inches tall.\" % my_height)\n",
    "print(\"He's %d pounds heavy.\" % my_weight)\n",
    "print(\"Actually that's not too heavy.\")\n",
    "print(\"He' get %s eyes and %s hair.\" %(my_eyes, my_hair))\n",
    "print(\"His teeth are usually %s depending on the coffee.\" % my_teeth)\n",
    "\n",
    "# This line is tricky, try to ge is exactly right\n",
    "\n",
    "print(\"If I add %d, %d, and %d I get %d.\" %(my_age, my_height, my_weight, my_age + my_height + my_weight))"
   ]
  },
  {
   "cell_type": "code",
   "execution_count": 25,
   "metadata": {},
   "outputs": [
    {
     "name": "stdout",
     "output_type": "stream",
     "text": [
      "我把 26, 173, 和70加起来就会得到269。\n"
     ]
    }
   ],
   "source": [
    "nianling = 26\n",
    "shengao = 173\n",
    "tizhong = 70\n",
    "print(\"我把 %d, %d, 和%d加起来就会得到%d。\" %(nianling, shengao, tizhong, nianling+shengao+tizhong))"
   ]
  },
  {
   "cell_type": "code",
   "execution_count": 28,
   "metadata": {},
   "outputs": [
    {
     "name": "stdout",
     "output_type": "stream",
     "text": [
      "我把26, 173, 和70加起来，就会得到269。\n"
     ]
    }
   ],
   "source": [
    "#coding:utf-8\n",
    "a= 26\n",
    "b= 173\n",
    "c=70\n",
    "print(\"我把%d, %d, 和%d加起来，就会得到%d。\" %(a, b, c, a+b+c))\n"
   ]
  },
  {
   "cell_type": "code",
   "execution_count": null,
   "metadata": {},
   "outputs": [],
   "source": []
  }
 ],
 "metadata": {
  "kernelspec": {
   "display_name": "Python 3",
   "language": "python",
   "name": "python3"
  },
  "language_info": {
   "codemirror_mode": {
    "name": "ipython",
    "version": 3
   },
   "file_extension": ".py",
   "mimetype": "text/x-python",
   "name": "python",
   "nbconvert_exporter": "python",
   "pygments_lexer": "ipython3",
   "version": "3.6.5"
  }
 },
 "nbformat": 4,
 "nbformat_minor": 2
}
