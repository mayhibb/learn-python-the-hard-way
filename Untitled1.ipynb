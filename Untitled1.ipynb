{
 "cells": [
  {
   "cell_type": "code",
   "execution_count": 3,
   "metadata": {},
   "outputs": [
    {
     "name": "stdout",
     "output_type": "stream",
     "text": [
      "2264228157256\n",
      "2264228157256\n",
      "2264227778312\n",
      "[1, 12, 2, 3, 6, 4, 5, 8, 7, 9]\n",
      "[1, 12, 2, 3, 6, 4, 5, 8, 7, 9]\n",
      "[1, 12, 2, 3, 6, 4, 5, 8, 7, 9]\n"
     ]
    }
   ],
   "source": [
    "\n",
    "list1 = [1,12,2,3,6,4,5,8,7,9]\n",
    "\n",
    "\n",
    "list2 = list1\n",
    "list3 = list1[:]\n",
    "\n",
    "\n",
    "\n",
    "print(id(list1))\n",
    "print(id(list2))\n",
    "print(id(list3))\n",
    "\n",
    "\n",
    "\n",
    "print(list1)\n",
    "print(list2)\n",
    "print(list3)"
   ]
  },
  {
   "cell_type": "code",
   "execution_count": null,
   "metadata": {},
   "outputs": [],
   "source": []
  }
 ],
 "metadata": {
  "kernelspec": {
   "display_name": "Python 3",
   "language": "python",
   "name": "python3"
  },
  "language_info": {
   "codemirror_mode": {
    "name": "ipython",
    "version": 3
   },
   "file_extension": ".py",
   "mimetype": "text/x-python",
   "name": "python",
   "nbconvert_exporter": "python",
   "pygments_lexer": "ipython3",
   "version": "3.6.5"
  }
 },
 "nbformat": 4,
 "nbformat_minor": 2
}
