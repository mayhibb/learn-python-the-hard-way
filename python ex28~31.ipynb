{
 "cells": [
  {
   "cell_type": "code",
   "execution_count": 12,
   "metadata": {
    "scrolled": true
   },
   "outputs": [
    {
     "name": "stdout",
     "output_type": "stream",
     "text": [
      "True\n",
      "False\n",
      "False\n",
      "True\n",
      "True\n",
      "True\n",
      "False\n",
      "True\n",
      "False\n",
      "False\n",
      "True\n",
      "False\n",
      "True\n",
      "False\n",
      "False\n",
      "False\n",
      "True\n",
      "True\n",
      "False\n",
      "False\n"
     ]
    }
   ],
   "source": [
    "# 练习题 28\n",
    "print(True and True)\n",
    "print(False and True)\n",
    "print(1 == 1 and 2 == 1)\n",
    "print(\"test\" == \"test\")\n",
    "print(1 == 1 or 2 != 1)\n",
    "\n",
    "print(True and 1 == 1)\n",
    "print(False and 0 != 0)\n",
    "print(True or 1 == 1)\n",
    "print(\"test\" == \"testing\")\n",
    "print(1 != 0 and 2 == 1)\n",
    "\n",
    "print(\"test\" != \"testing\")\n",
    "print(\"test\" == 1)\n",
    "print(not(True and False))\n",
    "print(not(1 == 1 and 0 != 1))\n",
    "print(not(10 == 1 or 1000 == 1000))\n",
    "\n",
    "print(not(1 != 10 or 3 == 4))\n",
    "print(not(\"testing\" == \"testing\" and \"Zed\" == \"Cool Guy\"))\n",
    "print(1 ==1 and not(\"testing\" == 1 or 1 == 0))\n",
    "print(\"chunky\" == \"bacon\" and not(3 == 4 or 3 == 3))\n",
    "print(3 == 3 and not(\"testing\" == \"testing\" or \"Python\" == \"Fun\"))"
   ]
  },
  {
   "cell_type": "code",
   "execution_count": 20,
   "metadata": {
    "scrolled": false
   },
   "outputs": [
    {
     "name": "stdout",
     "output_type": "stream",
     "text": [
      "1 : True\n",
      "2 : False\n",
      "3 : False\n",
      "4 : True\n",
      "5 : True  \n",
      "\n",
      "\n",
      "6 : True\n",
      "7 : False\n",
      "8 : True\n",
      "9 : False\n",
      "10 : False \n",
      "\n",
      "\n",
      "11 : True\n",
      "12 : False\n",
      "13 : True\n",
      "14 : False\n",
      "15 : False \n",
      "\n",
      "\n",
      "16 : False\n",
      "17 : True\n",
      "18 : True\n",
      "19 : False\n",
      "20 : False\n"
     ]
    }
   ],
   "source": [
    "n = 1\n",
    "print(n,':',True and True)\n",
    "n = n + 1\n",
    "print(n,':',False and True)\n",
    "n = n + 1\n",
    "print(n,':',1 == 1 and 2 == 1)\n",
    "n = n + 1\n",
    "print(n,':',\"test\" == \"test\")\n",
    "n = n + 1\n",
    "print(n,':',1 == 1 or 2 != 1,' \\n\\n')\n",
    "n = n + 1\n",
    "\n",
    "print(n,':',True and 1 == 1)\n",
    "n = n + 1\n",
    "print(n,':',False and 0 != 0)\n",
    "n = n + 1\n",
    "print(n,':',True or 1 == 1)\n",
    "n = n + 1\n",
    "print(n,':',\"test\" == \"testing\")\n",
    "n = n + 1\n",
    "print(n,':',1 != 0 and 2 == 1,'\\n\\n')\n",
    "n = n + 1\n",
    "\n",
    "print(n,':',\"test\" != \"testing\")\n",
    "n = n + 1\n",
    "print(n,':',\"test\" == 1)\n",
    "n = n + 1\n",
    "print(n,':',not(True and False))\n",
    "n = n + 1\n",
    "print(n,':',not(1 == 1 and 0 != 1))\n",
    "n = n + 1\n",
    "print(n,':',not(10 == 1 or 1000 == 1000),'\\n\\n')\n",
    "n = n + 1\n",
    "\n",
    "print(n,':',not(1 != 10 or 3 == 4))\n",
    "n = n + 1\n",
    "print(n,':',not(\"testing\" == \"testing\" and \"Zed\" == \"Cool Guy\"))\n",
    "n = n + 1\n",
    "print(n,':',1 ==1 and not(\"testing\" == 1 or 1 == 0))\n",
    "n = n + 1\n",
    "print(n,':',\"chunky\" == \"bacon\" and not(3 == 4 or 3 == 3))\n",
    "n = n + 1\n",
    "print(n,':',3 == 3 and not(\"testing\" == \"testing\" or \"Python\" == \"Fun\"))"
   ]
  },
  {
   "cell_type": "code",
   "execution_count": 28,
   "metadata": {},
   "outputs": [
    {
     "name": "stdout",
     "output_type": "stream",
     "text": [
      "Too many cats! The world is doomed!\n",
      "The world is dry!\n",
      "People are greater than or equal to dogs.\n",
      "People are less than or equal to dogs.\n",
      "People are dogs.\n"
     ]
    }
   ],
   "source": [
    "# 练习题 29\n",
    "people = 20\n",
    "cats = 30\n",
    "dogs = 15\n",
    "\n",
    "if people < cats:\n",
    "    print(\"Too many cats! The world is doomed!\")\n",
    "if people > cats:\n",
    "    print(\"Not many cats! The world is saved!\")\n",
    "\n",
    "if people < dogs:\n",
    "    print(\"The world is drooled on!\")\n",
    "if people > dogs:\n",
    "    print(\"The world is dry!\")\n",
    "    \n",
    "dogs += 5 # dogs = dogs + 5\n",
    "\n",
    "if people >= dogs:\n",
    "    print(\"People are greater than or equal to dogs.\")\n",
    "if people <= dogs:\n",
    "    print(\"People are less than or equal to dogs.\")\n",
    "\n",
    "if people == dogs:\n",
    "    print(\"People are dogs.\")"
   ]
  },
  {
   "cell_type": "code",
   "execution_count": 29,
   "metadata": {},
   "outputs": [
    {
     "name": "stdout",
     "output_type": "stream",
     "text": [
      "Too many cats! The world is doomed!\n"
     ]
    }
   ],
   "source": [
    "people = 20\n",
    "cats = 30\n",
    "dogs = 15\n",
    "\n",
    "if people < cats:\n",
    "    print(\"Too many cats! The world is doomed!\")\n",
    "else:\n",
    "    print(\"Not many cats! The world is saved!\")"
   ]
  },
  {
   "cell_type": "code",
   "execution_count": 2,
   "metadata": {},
   "outputs": [
    {
     "name": "stdout",
     "output_type": "stream",
     "text": [
      "We should take the cars.\n",
      "Maybe we could take the buses.\n",
      "Alright, let's just take the buses.\n"
     ]
    }
   ],
   "source": [
    "# 练习题 30\n",
    "people = 30 \n",
    "cars = 40\n",
    "buses = 15\n",
    "\n",
    "if cars > people:\n",
    "    print(\"We should take the cars.\")\n",
    "elif cars < people:\n",
    "    print(\"We should not take the cars.\")\n",
    "else:\n",
    "    print(\"We can't decide.\")\n",
    "\n",
    "if buses > cars:\n",
    "    print(\"That's too mary buses.\")\n",
    "elif buses < cars:\n",
    "    print(\"Maybe we could take the buses.\")\n",
    "else:\n",
    "    print(\"We still can't decide.\")\n",
    "\n",
    "    \n",
    "if people > buses:\n",
    "    print(\"Alright, let's just take the buses.\")\n",
    "else:\n",
    "    print(\"Fine, let's stay home then.\")"
   ]
  },
  {
   "cell_type": "code",
   "execution_count": null,
   "metadata": {
    "scrolled": true
   },
   "outputs": [],
   "source": [
    "# 练习题 31\n",
    "print(\"You enter a dark room with two doors. Do you go through door #1 or door #2?\")\n",
    "\n",
    "door = input(\">\")\n",
    "\n",
    "if door == \"1\":\n",
    "    print(\"There's a giant bear here eating a cheese cake. What do you do?\")\n",
    "    print(\"1. Take the cake.\")\n",
    "    print(\"2. Scream at the bear.\")\n",
    "    \n",
    "    \n",
    "    \n",
    "    bear = input(\">\")\n",
    "    \n",
    "    if bear == \"1\":\n",
    "        print(\"The bear eats your face off. Good job!\")\n",
    "    elif bear == \"2\":\n",
    "        print(\"The bear eats your legs off. Good job!\")\n",
    "    else:\n",
    "        print(\"Well, doing %s is probably better. Bear runs away.\" % bear)\n",
    "        \n",
    "        \n",
    "elif door == \"2\":\n",
    "    print(\"You stare into the endless abyss at Cthulhu's retina.\")\n",
    "    print(\"1. Blueberries.\")\n",
    "    print(\"2. Yellow jacket clothespins.\")\n",
    "    print(\"3. Understanding revolvers yelling melodies.\")\n",
    "    \n",
    "    \n",
    "    insanity = input(\">\")\n",
    "    \n",
    "    if insanity == \"1\" or insanity == \"2\":\n",
    "        print(\"Your body survives powered by a mind of jello. Good job!\")\n",
    "    else:\n",
    "        print(\"The insanity rots your eyes into a pool of muck. Good job!\")\n",
    "\n",
    "else:\n",
    "    print(\"You stumble around and fall on aa knife and die. Good job!\")"
   ]
  },
  {
   "cell_type": "code",
   "execution_count": null,
   "metadata": {},
   "outputs": [],
   "source": []
  },
  {
   "cell_type": "code",
   "execution_count": null,
   "metadata": {},
   "outputs": [],
   "source": []
  }
 ],
 "metadata": {
  "kernelspec": {
   "display_name": "Python 3",
   "language": "python",
   "name": "python3"
  },
  "language_info": {
   "codemirror_mode": {
    "name": "ipython",
    "version": 3
   },
   "file_extension": ".py",
   "mimetype": "text/x-python",
   "name": "python",
   "nbconvert_exporter": "python",
   "pygments_lexer": "ipython3",
   "version": "3.6.5"
  }
 },
 "nbformat": 4,
 "nbformat_minor": 2
}
