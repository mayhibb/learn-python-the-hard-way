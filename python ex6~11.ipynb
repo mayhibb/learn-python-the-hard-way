{
 "cells": [
  {
   "cell_type": "code",
   "execution_count": 1,
   "metadata": {},
   "outputs": [
    {
     "name": "stdout",
     "output_type": "stream",
     "text": [
      "There are 10 types of people.\n",
      "Those who know binary and those who don't.\n",
      "I said: 'There are 10 types of people.'.\n",
      "I also said:'Those who know binary and those who don't.'.\n",
      "Isn't that so funny?! False\n",
      "This is the left side of...a string with a right side.\n"
     ]
    }
   ],
   "source": [
    "x = \"There are %d types of people.\" % 10\n",
    "binary = \"binary\"\n",
    "do_not = \"don't\"\n",
    "y = \"Those who know %s and those who %s.\" %(binary,do_not)\n",
    "\n",
    "print(x)\n",
    "print(y)\n",
    "\n",
    "print(\"I said: %r.\" %x)\n",
    "print(\"I also said:'%s'.\"%y)\n",
    "\n",
    "hilarious = False\n",
    "joke_evaluation = \"Isn't that so funny?! %r\"\n",
    "\n",
    "print(joke_evaluation % hilarious)\n",
    "\n",
    "w = \"This is the left side of...\"\n",
    "e = \"a string with a right side.\"\n",
    "\n",
    "print(w+e)"
   ]
  },
  {
   "cell_type": "code",
   "execution_count": 6,
   "metadata": {},
   "outputs": [
    {
     "name": "stdout",
     "output_type": "stream",
     "text": [
      "Mary had a little lamb.\n",
      "Its fleece was white as snow.\n",
      "And everywhere that Mary went.\n",
      "..........\n",
      "chees\n",
      "eBurger\n"
     ]
    }
   ],
   "source": [
    "print(\"Mary had a little lamb.\")\n",
    "print(\"Its fleece was white as %s.\" % 'snow')\n",
    "print(\"And everywhere that Mary went.\")\n",
    "print(\".\" * 10)# what's that do？\n",
    "      \n",
    "end1 = \"c\"\n",
    "end2 = \"h\"\n",
    "end3 = \"e\"\n",
    "end4 = \"e\"\n",
    "end5 = \"s\"\n",
    "end6 = \"e\"\n",
    "end7 = \"B\"\n",
    "end8 = \"u\"\n",
    "end9 = \"r\"\n",
    "end10 = \"g\"\n",
    "end11 = \"e\"\n",
    "end12 = \"r\"\n",
    "      \n",
    "# watch that comma at the end. try removing in to see what happens.\n",
    "print(end1+end2+end3+end4+end5,)\n",
    "print(end6+end7+end8+end9+end10+end11+end12)"
   ]
  },
  {
   "cell_type": "code",
   "execution_count": 1,
   "metadata": {},
   "outputs": [
    {
     "name": "stdout",
     "output_type": "stream",
     "text": [
      "1 2 3 4\n",
      "'one' 'two' 'three' 'four'\n",
      "True False False True\n",
      "'%r %r %r %r' '%r %r %r %r' '%r %r %r %r' '%r %r %r %r'\n",
      "'I had this thing.' 'That you could type up right.' \"But it didn't sing.\" 'So I said goodnight.'\n"
     ]
    }
   ],
   "source": [
    "formatter = \"%r %r %r %r\"\n",
    "\n",
    "print(formatter % (1,2,3,4))\n",
    "print(formatter % (\"one\",\"two\",\"three\",\"four\"))\n",
    "print(formatter %(True,False,False,True))\n",
    "print(formatter %(formatter,formatter,formatter,formatter))\n",
    "print(formatter %(\"I had this thing.\",\n",
    "                 \"That you could type up right.\",\n",
    "                 \"But it didn't sing.\",\n",
    "                 \"So I said goodnight.\"))"
   ]
  },
  {
   "cell_type": "code",
   "execution_count": 4,
   "metadata": {},
   "outputs": [
    {
     "name": "stdout",
     "output_type": "stream",
     "text": [
      "Here are the days: Mon Tue Wed Thu Fri Sat Sun\n",
      "Here are the months: \n",
      "Jan\n",
      "Feb\n",
      "Mar\n",
      "Apr\n",
      "May\n",
      "Jun\n",
      "Jul\n",
      "Aug\n",
      "\n",
      "There's something going on here.\n",
      "With the three double-quotes.\n",
      "We'll be able to type as much as we like.\n",
      "Enen 4 lines if we want, or 5, or 6.\n",
      "\n"
     ]
    }
   ],
   "source": [
    "# Here's some new strange stuff, remember type it exactly.\n",
    "\n",
    "days = \"Mon Tue Wed Thu Fri Sat Sun\"\n",
    "months = \"\\nJan\\nFeb\\nMar\\nApr\\nMay\\nJun\\nJul\\nAug\"\n",
    "\n",
    "print(\"Here are the days:\", days)\n",
    "print(\"Here are the months:\", months)\n",
    "\n",
    "print(\"\"\"\n",
    "There's something going on here.\n",
    "With the three double-quotes.\n",
    "We'll be able to type as much as we like.\n",
    "Enen 4 lines if we want, or 5, or 6.\n",
    "\"\"\")"
   ]
  },
  {
   "cell_type": "code",
   "execution_count": null,
   "metadata": {},
   "outputs": [],
   "source": [
    "## formatter = \"%r %r %r %r\"\n",
    "print(\"\"\"\n",
    "formatter % (1,2,3,4),\n",
    "formatter % (\"one\",\"two\",\"three\",\"four\"),\n",
    "formatter % (True,False,False,True),\n",
    "formatter % (formatter,formatter,formatter,formatter),\n",
    "formatter %（\\n\"I had this thing.\",\\n\"That you could type up right.\",\\n\"But it didn't sing.\",\\n\"So I said goodnight.\")\n",
    "\"\"\")\n",
    "\n",
    "# \"\"\"这里放的只能是文本，写什么就输出什么，并不会进行函数运算。\"\"\""
   ]
  },
  {
   "cell_type": "code",
   "execution_count": 15,
   "metadata": {},
   "outputs": [
    {
     "name": "stdout",
     "output_type": "stream",
     "text": [
      "\t I'm tabbed in.\n",
      "I'm split \n",
      " on a line.\n",
      "I'm \\ a \\ cat.\n",
      "\n",
      "I'll do a list:\n",
      "\t* Cat food\n",
      "\t* Fishies\n",
      "\t* Catnip\n",
      "\t* Grass\n",
      "\n"
     ]
    }
   ],
   "source": [
    "tabby_cat = \"\\t I'm tabbed in.\"\n",
    "persian_cat = \"I'm split \\n on a line.\"\n",
    "backslash_cat = \"I'm \\\\ a \\\\ cat.\"\n",
    "\n",
    "fat_cat = '''\n",
    "I'll do a list:\n",
    "\\t* Cat food\n",
    "\\t* Fishies\n",
    "\\t* Catnip\\n\\t* Grass\n",
    "'''\n",
    "\n",
    "print(tabby_cat)\n",
    "print(persian_cat)\n",
    "print(backslash_cat)\n",
    "print(fat_cat)"
   ]
  },
  {
   "cell_type": "code",
   "execution_count": 16,
   "metadata": {
    "scrolled": true
   },
   "outputs": [
    {
     "name": "stdout",
     "output_type": "stream",
     "text": [
      "one two\n"
     ]
    }
   ],
   "source": [
    "print(\"%s %s\" %(\"one\",\"two\"))"
   ]
  },
  {
   "cell_type": "code",
   "execution_count": 17,
   "metadata": {},
   "outputs": [
    {
     "name": "stdout",
     "output_type": "stream",
     "text": [
      "'one' 'two'\n"
     ]
    }
   ],
   "source": [
    "print(\"%r %r\" %(\"one\",\"two\"))"
   ]
  },
  {
   "cell_type": "code",
   "execution_count": null,
   "metadata": {},
   "outputs": [],
   "source": [
    "print(\"How old are you?\"),\n",
    "age = input()\n",
    "print(\"How tall are you？\"),\n",
    "height = raw_input()\n",
    "print(\"How much do you weight?\"),\n",
    "weight = raw_input()\n",
    "\n",
    "print(\"So,you're %r old, %r tall and %r heavy.\" %(age, height, weight))"
   ]
  },
  {
   "cell_type": "code",
   "execution_count": null,
   "metadata": {},
   "outputs": [],
   "source": [
    "print(\"How old are you?\")\n",
    "age = input()\n",
    "print(\"How tall are you？\")\n",
    "height = input()\n",
    "print(\"How much do you weight?\")\n",
    "weight = input()\n",
    "\n",
    "print(\"So,you're %r old, %r tall and %r heavy.\" %(age, height, weight))"
   ]
  },
  {
   "cell_type": "code",
   "execution_count": null,
   "metadata": {},
   "outputs": [],
   "source": []
  }
 ],
 "metadata": {
  "kernelspec": {
   "display_name": "Python 3",
   "language": "python",
   "name": "python3"
  },
  "language_info": {
   "codemirror_mode": {
    "name": "ipython",
    "version": 3
   },
   "file_extension": ".py",
   "mimetype": "text/x-python",
   "name": "python",
   "nbconvert_exporter": "python",
   "pygments_lexer": "ipython3",
   "version": "3.6.5"
  }
 },
 "nbformat": 4,
 "nbformat_minor": 2
}
